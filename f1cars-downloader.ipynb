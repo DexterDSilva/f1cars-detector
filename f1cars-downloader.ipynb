{
 "cells": [
  {
   "cell_type": "markdown",
   "metadata": {},
   "source": [
    "# Download files from Google"
   ]
  },
  {
   "cell_type": "markdown",
   "metadata": {},
   "source": [
    "Google search: ferrari\n",
    "\n",
    "In Google Chrome press  CmdOptj on macOS, and a small window the javascript 'Console' will appear. That is where you will paste the JavaScript commands.\n",
    "\n",
    "urls=Array.from(document.querySelectorAll('.rg_i')).map(el=> el.hasAttribute('data-src')?el.getAttribute('data-src'):el.getAttribute('data-iurl'));\n",
    "window.open('data:text/csv;charset=utf-8,' + escape(urls.join('\\n')));"
   ]
  },
  {
   "cell_type": "code",
   "execution_count": 7,
   "metadata": {},
   "outputs": [
    {
     "data": {
      "text/plain": [
       "PosixPath('/Users/dexterdsilva/Documents/Developer/MachineLearning/fastai/course-v3/nbs/dl1/f1cars')"
      ]
     },
     "execution_count": 7,
     "metadata": {},
     "output_type": "execute_result"
    }
   ],
   "source": [
    "root_dir='/Users/dexterdsilva/Documents/Developer/MachineLearning/fastai/course-v3/nbs/dl1/f1cars'\n",
    "\n",
    "path = Path(root_dir);path"
   ]
  },
  {
   "cell_type": "code",
   "execution_count": 1,
   "metadata": {},
   "outputs": [],
   "source": [
    "ferrari_csv= 'urls_ferrari_75onw.csv'\n",
    "merc_csv = 'urls_mercedes_75onw.csv'\n",
    "rb_csv ='urls_redbull_75onw.csv'\n",
    "mcl_csv='urls_mclaren_75onw.csv'\n",
    "rp_csv='urls_racingpoint_75onw.csv'\n",
    "ren_csv='urls_renault_75onw.csv'\n",
    "will_csv = 'urls_williams_75onw.csv'\n",
    "toro_csv = 'urls_tororosso_75onw.csv'\n",
    "haas_csv = 'urls_haas_75onw.csv'\n",
    "sauber_csv = 'urls_sauber_75onw.csv'\n"
   ]
  },
  {
   "cell_type": "code",
   "execution_count": 2,
   "metadata": {},
   "outputs": [],
   "source": [
    "csv_list=[ferrari_csv,merc_csv,rb_csv,mcl_csv,rp_csv,\n",
    "          ren_csv,will_csv,toro_csv,haas_csv,sauber_csv]"
   ]
  },
  {
   "cell_type": "code",
   "execution_count": 5,
   "metadata": {},
   "outputs": [
    {
     "name": "stdout",
     "output_type": "stream",
     "text": [
      "['ferrari']\n",
      "['mercedes']\n",
      "['redbull']\n",
      "['mclaren']\n",
      "['racingpoint']\n",
      "['renault']\n",
      "['williams']\n",
      "['tororosso']\n",
      "['haas']\n",
      "['sauber']\n"
     ]
    }
   ],
   "source": [
    "for item in csv_list:\n",
    "    pat = re.compile(r'_([a-z]+)')\n",
    "    op = pat.findall(item)\n",
    "    print(op)\n"
   ]
  },
  {
   "cell_type": "code",
   "execution_count": 12,
   "metadata": {},
   "outputs": [
    {
     "data": {
      "text/html": [],
      "text/plain": [
       "<IPython.core.display.HTML object>"
      ]
     },
     "metadata": {},
     "output_type": "display_data"
    },
    {
     "name": "stdout",
     "output_type": "stream",
     "text": [
      "['ferrari']  contains  76  images\n"
     ]
    },
    {
     "data": {
      "text/html": [],
      "text/plain": [
       "<IPython.core.display.HTML object>"
      ]
     },
     "metadata": {},
     "output_type": "display_data"
    },
    {
     "name": "stdout",
     "output_type": "stream",
     "text": [
      "['mercedes']  contains  76  images\n"
     ]
    },
    {
     "data": {
      "text/html": [],
      "text/plain": [
       "<IPython.core.display.HTML object>"
      ]
     },
     "metadata": {},
     "output_type": "display_data"
    },
    {
     "name": "stdout",
     "output_type": "stream",
     "text": [
      "['redbull']  contains  76  images\n"
     ]
    },
    {
     "data": {
      "text/html": [],
      "text/plain": [
       "<IPython.core.display.HTML object>"
      ]
     },
     "metadata": {},
     "output_type": "display_data"
    },
    {
     "name": "stdout",
     "output_type": "stream",
     "text": [
      "['mclaren']  contains  76  images\n"
     ]
    },
    {
     "data": {
      "text/html": [],
      "text/plain": [
       "<IPython.core.display.HTML object>"
      ]
     },
     "metadata": {},
     "output_type": "display_data"
    },
    {
     "name": "stdout",
     "output_type": "stream",
     "text": [
      "['racingpoint']  contains  76  images\n"
     ]
    },
    {
     "data": {
      "text/html": [],
      "text/plain": [
       "<IPython.core.display.HTML object>"
      ]
     },
     "metadata": {},
     "output_type": "display_data"
    },
    {
     "name": "stdout",
     "output_type": "stream",
     "text": [
      "['renault']  contains  76  images\n"
     ]
    },
    {
     "data": {
      "text/html": [],
      "text/plain": [
       "<IPython.core.display.HTML object>"
      ]
     },
     "metadata": {},
     "output_type": "display_data"
    },
    {
     "name": "stdout",
     "output_type": "stream",
     "text": [
      "['williams']  contains  76  images\n"
     ]
    },
    {
     "data": {
      "text/html": [],
      "text/plain": [
       "<IPython.core.display.HTML object>"
      ]
     },
     "metadata": {},
     "output_type": "display_data"
    },
    {
     "name": "stdout",
     "output_type": "stream",
     "text": [
      "['tororosso']  contains  76  images\n"
     ]
    },
    {
     "data": {
      "text/html": [],
      "text/plain": [
       "<IPython.core.display.HTML object>"
      ]
     },
     "metadata": {},
     "output_type": "display_data"
    },
    {
     "name": "stdout",
     "output_type": "stream",
     "text": [
      "['haas']  contains  76  images\n"
     ]
    },
    {
     "data": {
      "text/html": [],
      "text/plain": [
       "<IPython.core.display.HTML object>"
      ]
     },
     "metadata": {},
     "output_type": "display_data"
    },
    {
     "name": "stdout",
     "output_type": "stream",
     "text": [
      "['sauber']  contains  76  images\n"
     ]
    }
   ],
   "source": [
    "for item in csv_list:\n",
    "    pat = re.compile(r'_([a-z]+)')\n",
    "    fname = pat.findall(item)                                                    \n",
    "    file = item \n",
    "    dest = path/fname[0]\n",
    "    #print(dest)\n",
    "    #print(path/file)\n",
    "\n",
    "    dest.mkdir(parents=True, exist_ok=True)\n",
    "    download_images(path/file, dest, max_pics=75, max_workers=0)\n",
    "    #DOWNLOAD NAMES START FROM 0000000.jpg\n",
    "    \n",
    "    \n",
    "    \n",
    "    list1 = []\n",
    "    list1 =  ((path/dest).ls())\n",
    "    print(fname,' contains ',len(list1) , ' images')"
   ]
  },
  {
   "cell_type": "code",
   "execution_count": 11,
   "metadata": {},
   "outputs": [
    {
     "data": {
      "text/plain": [
       "69"
      ]
     },
     "execution_count": 11,
     "metadata": {},
     "output_type": "execute_result"
    }
   ],
   "source": [
    "haas_cnt =(path/'haas').ls() ; len(haas_cnt)"
   ]
  },
  {
   "cell_type": "markdown",
   "metadata": {},
   "source": [
    "The images are downloaded in a serial naming convention\n",
    "00000001.jpg , 00000002.jpg\n",
    "\n",
    "If this is repeated then the old files are overwritten. \n",
    "To avoid this you can rename any new images to whatever you want.\n"
   ]
  }
 ],
 "metadata": {
  "kernelspec": {
   "display_name": "Python 3",
   "language": "python",
   "name": "python3"
  },
  "language_info": {
   "codemirror_mode": {
    "name": "ipython",
    "version": 3
   },
   "file_extension": ".py",
   "mimetype": "text/x-python",
   "name": "python",
   "nbconvert_exporter": "python",
   "pygments_lexer": "ipython3",
   "version": "3.7.6"
  }
 },
 "nbformat": 4,
 "nbformat_minor": 4
}
